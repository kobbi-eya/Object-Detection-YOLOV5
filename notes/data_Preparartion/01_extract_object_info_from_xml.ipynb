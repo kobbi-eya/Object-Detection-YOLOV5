{
 "cells": [
  {
   "cell_type": "code",
   "execution_count": 99,
   "id": "69d23b34-ba10-4a78-8d47-99fbfc2422ef",
   "metadata": {},
   "outputs": [],
   "source": [
    "import os\n",
    "import pandas as pd\n",
    "from glob import glob\n",
    "from functools import reduce\n",
    "from xml.etree import ElementTree as et"
   ]
  },
  {
   "cell_type": "code",
   "execution_count": 100,
   "id": "6a5a0741-0adc-44c6-9f31-3cdbdb3e7677",
   "metadata": {},
   "outputs": [],
   "source": [
    "#load all xml file ans store in a list\n",
    "xmlfiles = glob ('./images/*.xml')\n",
    "#data clean\n",
    "replace_text = lambda x: x.replace ('\\\\','/')\n",
    "xmlfiles = list(map(replace_text,xmlfiles))\n"
   ]
  },
  {
   "cell_type": "code",
   "execution_count": 101,
   "id": "6e74732f-857d-44cf-8041-80512f4400b6",
   "metadata": {},
   "outputs": [
    {
     "data": {
      "text/plain": [
       "[]"
      ]
     },
     "execution_count": 101,
     "metadata": {},
     "output_type": "execute_result"
    }
   ],
   "source": [
    "xmlfiles"
   ]
  },
  {
   "cell_type": "code",
   "execution_count": 102,
   "id": "ca004448-10c0-4464-9bd9-f58fd29a108f",
   "metadata": {},
   "outputs": [],
   "source": [
    "# read xml files and extract  file name ans (width , high) of the image from object ( xmin ,xmax,ymin,ymax)\n",
    "def extract_text(filename):\n",
    "    tree = et.parse(filename)\n",
    "    root = tree.getroot()\n",
    "\n",
    "    image_name=root.find('filename').text\n",
    "    width= root.find('size').find('width').text\n",
    "    height= root.find('size').find('height').text\n",
    "    objs = root.findall('object')\n",
    "    parser = []\n",
    "    for obj in objs: \n",
    "        name = obj.find('name').text\n",
    "        bndbox = obj.find('bndbox')\n",
    "        xmin = bndbox .find('xmin').text\n",
    "        xmax = bndbox .find('xmax').text\n",
    "        ymin = bndbox .find('ymin').text\n",
    "        ymax = bndbox .find('ymax').text\n",
    "        parser.append([image_name,width,height,name,xmin,xmax,ymin,ymax])\n",
    "    \n",
    "    return (parser)\n",
    "    \n",
    "\n"
   ]
  },
  {
   "cell_type": "code",
   "execution_count": 103,
   "id": "e740bd6d-a7cc-4da7-9125-2ef94caae229",
   "metadata": {},
   "outputs": [],
   "source": [
    "parser_all = list(map(extract_text,xmlfiles))"
   ]
  },
  {
   "cell_type": "code",
   "execution_count": 104,
   "id": "019ff709-6928-4a5a-aff4-66fd53ee7560",
   "metadata": {},
   "outputs": [
    {
     "ename": "TypeError",
     "evalue": "reduce() of empty iterable with no initial value",
     "output_type": "error",
     "traceback": [
      "\u001b[1;31m---------------------------------------------------------------------------\u001b[0m",
      "\u001b[1;31mTypeError\u001b[0m                                 Traceback (most recent call last)",
      "Cell \u001b[1;32mIn[104], line 1\u001b[0m\n\u001b[1;32m----> 1\u001b[0m data \u001b[38;5;241m=\u001b[39m \u001b[43mreduce\u001b[49m\u001b[43m(\u001b[49m\u001b[38;5;28;43;01mlambda\u001b[39;49;00m\u001b[43m \u001b[49m\u001b[43mx\u001b[49m\u001b[43m,\u001b[49m\u001b[43my\u001b[49m\u001b[43m \u001b[49m\u001b[43m:\u001b[49m\u001b[43m \u001b[49m\u001b[43mx\u001b[49m\u001b[38;5;241;43m+\u001b[39;49m\u001b[43my\u001b[49m\u001b[43m,\u001b[49m\u001b[43mparser_all\u001b[49m\u001b[43m)\u001b[49m\n",
      "\u001b[1;31mTypeError\u001b[0m: reduce() of empty iterable with no initial value"
     ]
    }
   ],
   "source": [
    "data = reduce(lambda x,y : x+y,parser_all)"
   ]
  },
  {
   "cell_type": "code",
   "execution_count": 105,
   "id": "90a959b1-15f3-4ef0-b790-aeac38047141",
   "metadata": {},
   "outputs": [],
   "source": [
    "df = pd.DataFrame(data, columns=['filename', 'width', 'height', 'name', 'xmin', 'xmax', 'ymin', 'ymax'])"
   ]
  },
  {
   "cell_type": "code",
   "execution_count": 106,
   "id": "08b57a27-0ac3-4bda-adfe-8c0f855aac5a",
   "metadata": {},
   "outputs": [
    {
     "data": {
      "text/html": [
       "<div>\n",
       "<style scoped>\n",
       "    .dataframe tbody tr th:only-of-type {\n",
       "        vertical-align: middle;\n",
       "    }\n",
       "\n",
       "    .dataframe tbody tr th {\n",
       "        vertical-align: top;\n",
       "    }\n",
       "\n",
       "    .dataframe thead th {\n",
       "        text-align: right;\n",
       "    }\n",
       "</style>\n",
       "<table border=\"1\" class=\"dataframe\">\n",
       "  <thead>\n",
       "    <tr style=\"text-align: right;\">\n",
       "      <th></th>\n",
       "      <th>filename</th>\n",
       "      <th>width</th>\n",
       "      <th>height</th>\n",
       "      <th>name</th>\n",
       "      <th>xmin</th>\n",
       "      <th>xmax</th>\n",
       "      <th>ymin</th>\n",
       "      <th>ymax</th>\n",
       "    </tr>\n",
       "  </thead>\n",
       "  <tbody>\n",
       "    <tr>\n",
       "      <th>0</th>\n",
       "      <td>0AHV0ASNCXTM.jpg</td>\n",
       "      <td>32</td>\n",
       "      <td>32</td>\n",
       "      <td>chair</td>\n",
       "      <td>1</td>\n",
       "      <td>32</td>\n",
       "      <td>1</td>\n",
       "      <td>32</td>\n",
       "    </tr>\n",
       "    <tr>\n",
       "      <th>1</th>\n",
       "      <td>0CXQ0Z6D2130.jpg</td>\n",
       "      <td>32</td>\n",
       "      <td>32</td>\n",
       "      <td>chair</td>\n",
       "      <td>1</td>\n",
       "      <td>31</td>\n",
       "      <td>2</td>\n",
       "      <td>30</td>\n",
       "    </tr>\n",
       "    <tr>\n",
       "      <th>2</th>\n",
       "      <td>0FSL56XHX45X.jpg</td>\n",
       "      <td>32</td>\n",
       "      <td>32</td>\n",
       "      <td>chair</td>\n",
       "      <td>3</td>\n",
       "      <td>29</td>\n",
       "      <td>1</td>\n",
       "      <td>32</td>\n",
       "    </tr>\n",
       "    <tr>\n",
       "      <th>3</th>\n",
       "      <td>0TVYI0FKFM75.jpg</td>\n",
       "      <td>32</td>\n",
       "      <td>32</td>\n",
       "      <td>chair</td>\n",
       "      <td>6</td>\n",
       "      <td>27</td>\n",
       "      <td>1</td>\n",
       "      <td>30</td>\n",
       "    </tr>\n",
       "    <tr>\n",
       "      <th>4</th>\n",
       "      <td>0ZA6E9VEPXO7.jpg</td>\n",
       "      <td>32</td>\n",
       "      <td>32</td>\n",
       "      <td>chair</td>\n",
       "      <td>1</td>\n",
       "      <td>32</td>\n",
       "      <td>1</td>\n",
       "      <td>31</td>\n",
       "    </tr>\n",
       "  </tbody>\n",
       "</table>\n",
       "</div>"
      ],
      "text/plain": [
       "           filename width height   name xmin xmax ymin ymax\n",
       "0  0AHV0ASNCXTM.jpg    32     32  chair    1   32    1   32\n",
       "1  0CXQ0Z6D2130.jpg    32     32  chair    1   31    2   30\n",
       "2  0FSL56XHX45X.jpg    32     32  chair    3   29    1   32\n",
       "3  0TVYI0FKFM75.jpg    32     32  chair    6   27    1   30\n",
       "4  0ZA6E9VEPXO7.jpg    32     32  chair    1   32    1   31"
      ]
     },
     "execution_count": 106,
     "metadata": {},
     "output_type": "execute_result"
    }
   ],
   "source": [
    "df.head()"
   ]
  },
  {
   "cell_type": "code",
   "execution_count": 107,
   "id": "a7590fa3-585a-495f-82cf-2087ed1a9f51",
   "metadata": {},
   "outputs": [
    {
     "data": {
      "text/plain": [
       "(285, 8)"
      ]
     },
     "execution_count": 107,
     "metadata": {},
     "output_type": "execute_result"
    }
   ],
   "source": [
    "df.shape\n"
   ]
  },
  {
   "cell_type": "code",
   "execution_count": 108,
   "id": "f46ac8f8-8f52-4fae-a2eb-30b23db69d8f",
   "metadata": {},
   "outputs": [
    {
     "data": {
      "text/plain": [
       "name\n",
       "person    88\n",
       "bottle    55\n",
       "plant     49\n",
       "car       48\n",
       "chair     45\n",
       "Name: count, dtype: int64"
      ]
     },
     "execution_count": 108,
     "metadata": {},
     "output_type": "execute_result"
    }
   ],
   "source": [
    "df['name'].value_counts()"
   ]
  },
  {
   "cell_type": "code",
   "execution_count": 109,
   "id": "5af5180d-1d4f-4cdf-a8c2-e21af8c14814",
   "metadata": {},
   "outputs": [
    {
     "name": "stdout",
     "output_type": "stream",
     "text": [
      "<class 'pandas.core.frame.DataFrame'>\n",
      "RangeIndex: 285 entries, 0 to 284\n",
      "Data columns (total 8 columns):\n",
      " #   Column    Non-Null Count  Dtype \n",
      "---  ------    --------------  ----- \n",
      " 0   filename  285 non-null    object\n",
      " 1   width     285 non-null    object\n",
      " 2   height    285 non-null    object\n",
      " 3   name      285 non-null    object\n",
      " 4   xmin      285 non-null    object\n",
      " 5   xmax      285 non-null    object\n",
      " 6   ymin      285 non-null    object\n",
      " 7   ymax      285 non-null    object\n",
      "dtypes: object(8)\n",
      "memory usage: 17.9+ KB\n"
     ]
    }
   ],
   "source": [
    "df.info()"
   ]
  },
  {
   "cell_type": "code",
   "execution_count": 110,
   "id": "802fb182-0981-4571-97c6-b2f8da2b15de",
   "metadata": {},
   "outputs": [
    {
     "name": "stdout",
     "output_type": "stream",
     "text": [
      "<class 'pandas.core.frame.DataFrame'>\n",
      "RangeIndex: 285 entries, 0 to 284\n",
      "Data columns (total 8 columns):\n",
      " #   Column    Non-Null Count  Dtype \n",
      "---  ------    --------------  ----- \n",
      " 0   filename  285 non-null    object\n",
      " 1   width     285 non-null    int64 \n",
      " 2   height    285 non-null    int64 \n",
      " 3   name      285 non-null    object\n",
      " 4   xmin      285 non-null    int64 \n",
      " 5   xmax      285 non-null    int64 \n",
      " 6   ymin      285 non-null    int64 \n",
      " 7   ymax      285 non-null    int64 \n",
      "dtypes: int64(6), object(2)\n",
      "memory usage: 17.9+ KB\n"
     ]
    }
   ],
   "source": [
    "# type convert\n",
    "cols = ['width','height', 'xmin', 'xmax', 'ymin', 'ymax']\n",
    "df[cols] = df[cols].astype(int)\n",
    "df.info()"
   ]
  },
  {
   "cell_type": "code",
   "execution_count": 111,
   "id": "4b887858-a6c9-4fa0-ac4c-8d8f278d0e98",
   "metadata": {},
   "outputs": [],
   "source": [
    "#center x , center y\n",
    "df['center_x'] = ((df['xmax']+df['xmin'])/2)/df['width']\n",
    "df['center_y'] = ((df['ymax']+df['ymin'])/2)/df['height']\n",
    "#w\n",
    "df['w'] = (df['xmax']-df['xmin'])/df['width']\n",
    "df['h'] = (df['ymax']-df['ymin'])/df['height']          "
   ]
  },
  {
   "cell_type": "code",
   "execution_count": 112,
   "id": "7e907a57-56cb-49ee-a8be-b81f28bf7ea8",
   "metadata": {},
   "outputs": [
    {
     "data": {
      "text/html": [
       "<div>\n",
       "<style scoped>\n",
       "    .dataframe tbody tr th:only-of-type {\n",
       "        vertical-align: middle;\n",
       "    }\n",
       "\n",
       "    .dataframe tbody tr th {\n",
       "        vertical-align: top;\n",
       "    }\n",
       "\n",
       "    .dataframe thead th {\n",
       "        text-align: right;\n",
       "    }\n",
       "</style>\n",
       "<table border=\"1\" class=\"dataframe\">\n",
       "  <thead>\n",
       "    <tr style=\"text-align: right;\">\n",
       "      <th></th>\n",
       "      <th>filename</th>\n",
       "      <th>width</th>\n",
       "      <th>height</th>\n",
       "      <th>name</th>\n",
       "      <th>xmin</th>\n",
       "      <th>xmax</th>\n",
       "      <th>ymin</th>\n",
       "      <th>ymax</th>\n",
       "      <th>center_x</th>\n",
       "      <th>center_y</th>\n",
       "      <th>w</th>\n",
       "      <th>h</th>\n",
       "    </tr>\n",
       "  </thead>\n",
       "  <tbody>\n",
       "    <tr>\n",
       "      <th>0</th>\n",
       "      <td>0AHV0ASNCXTM.jpg</td>\n",
       "      <td>32</td>\n",
       "      <td>32</td>\n",
       "      <td>chair</td>\n",
       "      <td>1</td>\n",
       "      <td>32</td>\n",
       "      <td>1</td>\n",
       "      <td>32</td>\n",
       "      <td>0.515625</td>\n",
       "      <td>0.515625</td>\n",
       "      <td>0.96875</td>\n",
       "      <td>0.96875</td>\n",
       "    </tr>\n",
       "    <tr>\n",
       "      <th>1</th>\n",
       "      <td>0CXQ0Z6D2130.jpg</td>\n",
       "      <td>32</td>\n",
       "      <td>32</td>\n",
       "      <td>chair</td>\n",
       "      <td>1</td>\n",
       "      <td>31</td>\n",
       "      <td>2</td>\n",
       "      <td>30</td>\n",
       "      <td>0.500000</td>\n",
       "      <td>0.500000</td>\n",
       "      <td>0.93750</td>\n",
       "      <td>0.87500</td>\n",
       "    </tr>\n",
       "    <tr>\n",
       "      <th>2</th>\n",
       "      <td>0FSL56XHX45X.jpg</td>\n",
       "      <td>32</td>\n",
       "      <td>32</td>\n",
       "      <td>chair</td>\n",
       "      <td>3</td>\n",
       "      <td>29</td>\n",
       "      <td>1</td>\n",
       "      <td>32</td>\n",
       "      <td>0.500000</td>\n",
       "      <td>0.515625</td>\n",
       "      <td>0.81250</td>\n",
       "      <td>0.96875</td>\n",
       "    </tr>\n",
       "    <tr>\n",
       "      <th>3</th>\n",
       "      <td>0TVYI0FKFM75.jpg</td>\n",
       "      <td>32</td>\n",
       "      <td>32</td>\n",
       "      <td>chair</td>\n",
       "      <td>6</td>\n",
       "      <td>27</td>\n",
       "      <td>1</td>\n",
       "      <td>30</td>\n",
       "      <td>0.515625</td>\n",
       "      <td>0.484375</td>\n",
       "      <td>0.65625</td>\n",
       "      <td>0.90625</td>\n",
       "    </tr>\n",
       "    <tr>\n",
       "      <th>4</th>\n",
       "      <td>0ZA6E9VEPXO7.jpg</td>\n",
       "      <td>32</td>\n",
       "      <td>32</td>\n",
       "      <td>chair</td>\n",
       "      <td>1</td>\n",
       "      <td>32</td>\n",
       "      <td>1</td>\n",
       "      <td>31</td>\n",
       "      <td>0.515625</td>\n",
       "      <td>0.500000</td>\n",
       "      <td>0.96875</td>\n",
       "      <td>0.93750</td>\n",
       "    </tr>\n",
       "  </tbody>\n",
       "</table>\n",
       "</div>"
      ],
      "text/plain": [
       "           filename  width  height   name  xmin  xmax  ymin  ymax  center_x  \\\n",
       "0  0AHV0ASNCXTM.jpg     32      32  chair     1    32     1    32  0.515625   \n",
       "1  0CXQ0Z6D2130.jpg     32      32  chair     1    31     2    30  0.500000   \n",
       "2  0FSL56XHX45X.jpg     32      32  chair     3    29     1    32  0.500000   \n",
       "3  0TVYI0FKFM75.jpg     32      32  chair     6    27     1    30  0.515625   \n",
       "4  0ZA6E9VEPXO7.jpg     32      32  chair     1    32     1    31  0.515625   \n",
       "\n",
       "   center_y        w        h  \n",
       "0  0.515625  0.96875  0.96875  \n",
       "1  0.500000  0.93750  0.87500  \n",
       "2  0.515625  0.81250  0.96875  \n",
       "3  0.484375  0.65625  0.90625  \n",
       "4  0.500000  0.96875  0.93750  "
      ]
     },
     "execution_count": 112,
     "metadata": {},
     "output_type": "execute_result"
    }
   ],
   "source": [
    "df.head()\n"
   ]
  },
  {
   "cell_type": "code",
   "execution_count": 113,
   "id": "76984c5c-889e-4980-a33d-3162a91fe126",
   "metadata": {},
   "outputs": [],
   "source": [
    "images = df['filename'].unique()"
   ]
  },
  {
   "cell_type": "code",
   "execution_count": 114,
   "id": "6b376894-97f6-4ace-b162-977ca4874b6e",
   "metadata": {},
   "outputs": [
    {
     "data": {
      "text/plain": [
       "204"
      ]
     },
     "execution_count": 114,
     "metadata": {},
     "output_type": "execute_result"
    }
   ],
   "source": [
    "len(images)"
   ]
  },
  {
   "cell_type": "code",
   "execution_count": 115,
   "id": "74f4af9f-4906-4d7a-98ae-8ee5d162d592",
   "metadata": {},
   "outputs": [],
   "source": [
    "# 80% train 20% test \n",
    "img_df = pd.DataFrame(images, columns=['filename'])\n",
    "img_train = tuple(img_df.sample(frac = 0.8)['filename'])  #shuffle and pick 80% of images\n"
   ]
  },
  {
   "cell_type": "code",
   "execution_count": 116,
   "id": "dae73ced-e762-4d96-a930-147d0245e8c1",
   "metadata": {},
   "outputs": [],
   "source": [
    "img_test = tuple(img_df.query(f'filename not in {img_train}')['filename'])"
   ]
  },
  {
   "cell_type": "code",
   "execution_count": 117,
   "id": "1753669d-71bc-4831-aee3-fe81c55dba77",
   "metadata": {},
   "outputs": [
    {
     "data": {
      "text/plain": [
       "(163, 41)"
      ]
     },
     "execution_count": 117,
     "metadata": {},
     "output_type": "execute_result"
    }
   ],
   "source": [
    "len(img_train),len(img_test)"
   ]
  },
  {
   "cell_type": "code",
   "execution_count": 118,
   "id": "b9b9ec80-64ee-4324-bd7e-e8e2be533cc8",
   "metadata": {},
   "outputs": [],
   "source": [
    "train_df = df.query(f'filename in {img_train}')\n",
    "test_df = df.query(f'filename in {img_test}')"
   ]
  },
  {
   "cell_type": "code",
   "execution_count": 119,
   "id": "0efe503a-0e43-4cae-a3f5-9bcdbc4fc57c",
   "metadata": {},
   "outputs": [
    {
     "data": {
      "text/html": [
       "<div>\n",
       "<style scoped>\n",
       "    .dataframe tbody tr th:only-of-type {\n",
       "        vertical-align: middle;\n",
       "    }\n",
       "\n",
       "    .dataframe tbody tr th {\n",
       "        vertical-align: top;\n",
       "    }\n",
       "\n",
       "    .dataframe thead th {\n",
       "        text-align: right;\n",
       "    }\n",
       "</style>\n",
       "<table border=\"1\" class=\"dataframe\">\n",
       "  <thead>\n",
       "    <tr style=\"text-align: right;\">\n",
       "      <th></th>\n",
       "      <th>filename</th>\n",
       "      <th>width</th>\n",
       "      <th>height</th>\n",
       "      <th>name</th>\n",
       "      <th>xmin</th>\n",
       "      <th>xmax</th>\n",
       "      <th>ymin</th>\n",
       "      <th>ymax</th>\n",
       "      <th>center_x</th>\n",
       "      <th>center_y</th>\n",
       "      <th>w</th>\n",
       "      <th>h</th>\n",
       "    </tr>\n",
       "  </thead>\n",
       "  <tbody>\n",
       "    <tr>\n",
       "      <th>0</th>\n",
       "      <td>0AHV0ASNCXTM.jpg</td>\n",
       "      <td>32</td>\n",
       "      <td>32</td>\n",
       "      <td>chair</td>\n",
       "      <td>1</td>\n",
       "      <td>32</td>\n",
       "      <td>1</td>\n",
       "      <td>32</td>\n",
       "      <td>0.515625</td>\n",
       "      <td>0.515625</td>\n",
       "      <td>0.968750</td>\n",
       "      <td>0.96875</td>\n",
       "    </tr>\n",
       "    <tr>\n",
       "      <th>2</th>\n",
       "      <td>0FSL56XHX45X.jpg</td>\n",
       "      <td>32</td>\n",
       "      <td>32</td>\n",
       "      <td>chair</td>\n",
       "      <td>3</td>\n",
       "      <td>29</td>\n",
       "      <td>1</td>\n",
       "      <td>32</td>\n",
       "      <td>0.500000</td>\n",
       "      <td>0.515625</td>\n",
       "      <td>0.812500</td>\n",
       "      <td>0.96875</td>\n",
       "    </tr>\n",
       "    <tr>\n",
       "      <th>3</th>\n",
       "      <td>0TVYI0FKFM75.jpg</td>\n",
       "      <td>32</td>\n",
       "      <td>32</td>\n",
       "      <td>chair</td>\n",
       "      <td>6</td>\n",
       "      <td>27</td>\n",
       "      <td>1</td>\n",
       "      <td>30</td>\n",
       "      <td>0.515625</td>\n",
       "      <td>0.484375</td>\n",
       "      <td>0.656250</td>\n",
       "      <td>0.90625</td>\n",
       "    </tr>\n",
       "    <tr>\n",
       "      <th>4</th>\n",
       "      <td>0ZA6E9VEPXO7.jpg</td>\n",
       "      <td>32</td>\n",
       "      <td>32</td>\n",
       "      <td>chair</td>\n",
       "      <td>1</td>\n",
       "      <td>32</td>\n",
       "      <td>1</td>\n",
       "      <td>31</td>\n",
       "      <td>0.515625</td>\n",
       "      <td>0.500000</td>\n",
       "      <td>0.968750</td>\n",
       "      <td>0.93750</td>\n",
       "    </tr>\n",
       "    <tr>\n",
       "      <th>5</th>\n",
       "      <td>1-liter-drinking-water-pet-bottle-995-w300_2_1...</td>\n",
       "      <td>281</td>\n",
       "      <td>500</td>\n",
       "      <td>bottle</td>\n",
       "      <td>58</td>\n",
       "      <td>181</td>\n",
       "      <td>1</td>\n",
       "      <td>485</td>\n",
       "      <td>0.425267</td>\n",
       "      <td>0.486000</td>\n",
       "      <td>0.437722</td>\n",
       "      <td>0.96800</td>\n",
       "    </tr>\n",
       "  </tbody>\n",
       "</table>\n",
       "</div>"
      ],
      "text/plain": [
       "                                            filename  width  height    name  \\\n",
       "0                                   0AHV0ASNCXTM.jpg     32      32   chair   \n",
       "2                                   0FSL56XHX45X.jpg     32      32   chair   \n",
       "3                                   0TVYI0FKFM75.jpg     32      32   chair   \n",
       "4                                   0ZA6E9VEPXO7.jpg     32      32   chair   \n",
       "5  1-liter-drinking-water-pet-bottle-995-w300_2_1...    281     500  bottle   \n",
       "\n",
       "   xmin  xmax  ymin  ymax  center_x  center_y         w        h  \n",
       "0     1    32     1    32  0.515625  0.515625  0.968750  0.96875  \n",
       "2     3    29     1    32  0.500000  0.515625  0.812500  0.96875  \n",
       "3     6    27     1    30  0.515625  0.484375  0.656250  0.90625  \n",
       "4     1    32     1    31  0.515625  0.500000  0.968750  0.93750  \n",
       "5    58   181     1   485  0.425267  0.486000  0.437722  0.96800  "
      ]
     },
     "execution_count": 119,
     "metadata": {},
     "output_type": "execute_result"
    }
   ],
   "source": [
    "train_df.head()"
   ]
  },
  {
   "cell_type": "code",
   "execution_count": 120,
   "id": "948f201f-59ed-44b8-a469-5f9061ed4700",
   "metadata": {},
   "outputs": [
    {
     "data": {
      "text/html": [
       "<div>\n",
       "<style scoped>\n",
       "    .dataframe tbody tr th:only-of-type {\n",
       "        vertical-align: middle;\n",
       "    }\n",
       "\n",
       "    .dataframe tbody tr th {\n",
       "        vertical-align: top;\n",
       "    }\n",
       "\n",
       "    .dataframe thead th {\n",
       "        text-align: right;\n",
       "    }\n",
       "</style>\n",
       "<table border=\"1\" class=\"dataframe\">\n",
       "  <thead>\n",
       "    <tr style=\"text-align: right;\">\n",
       "      <th></th>\n",
       "      <th>filename</th>\n",
       "      <th>width</th>\n",
       "      <th>height</th>\n",
       "      <th>name</th>\n",
       "      <th>xmin</th>\n",
       "      <th>xmax</th>\n",
       "      <th>ymin</th>\n",
       "      <th>ymax</th>\n",
       "      <th>center_x</th>\n",
       "      <th>center_y</th>\n",
       "      <th>w</th>\n",
       "      <th>h</th>\n",
       "    </tr>\n",
       "  </thead>\n",
       "  <tbody>\n",
       "    <tr>\n",
       "      <th>1</th>\n",
       "      <td>0CXQ0Z6D2130.jpg</td>\n",
       "      <td>32</td>\n",
       "      <td>32</td>\n",
       "      <td>chair</td>\n",
       "      <td>1</td>\n",
       "      <td>31</td>\n",
       "      <td>2</td>\n",
       "      <td>30</td>\n",
       "      <td>0.500000</td>\n",
       "      <td>0.500000</td>\n",
       "      <td>0.937500</td>\n",
       "      <td>0.875000</td>\n",
       "    </tr>\n",
       "    <tr>\n",
       "      <th>18</th>\n",
       "      <td>110_1.jpg</td>\n",
       "      <td>320</td>\n",
       "      <td>213</td>\n",
       "      <td>car</td>\n",
       "      <td>28</td>\n",
       "      <td>320</td>\n",
       "      <td>1</td>\n",
       "      <td>185</td>\n",
       "      <td>0.543750</td>\n",
       "      <td>0.436620</td>\n",
       "      <td>0.912500</td>\n",
       "      <td>0.863850</td>\n",
       "    </tr>\n",
       "    <tr>\n",
       "      <th>20</th>\n",
       "      <td>114_1.jpg</td>\n",
       "      <td>320</td>\n",
       "      <td>203</td>\n",
       "      <td>car</td>\n",
       "      <td>72</td>\n",
       "      <td>149</td>\n",
       "      <td>130</td>\n",
       "      <td>187</td>\n",
       "      <td>0.345313</td>\n",
       "      <td>0.780788</td>\n",
       "      <td>0.240625</td>\n",
       "      <td>0.280788</td>\n",
       "    </tr>\n",
       "    <tr>\n",
       "      <th>21</th>\n",
       "      <td>114_1.jpg</td>\n",
       "      <td>320</td>\n",
       "      <td>203</td>\n",
       "      <td>car</td>\n",
       "      <td>187</td>\n",
       "      <td>295</td>\n",
       "      <td>124</td>\n",
       "      <td>178</td>\n",
       "      <td>0.753125</td>\n",
       "      <td>0.743842</td>\n",
       "      <td>0.337500</td>\n",
       "      <td>0.266010</td>\n",
       "    </tr>\n",
       "    <tr>\n",
       "      <th>22</th>\n",
       "      <td>114_1.jpg</td>\n",
       "      <td>320</td>\n",
       "      <td>203</td>\n",
       "      <td>car</td>\n",
       "      <td>138</td>\n",
       "      <td>184</td>\n",
       "      <td>125</td>\n",
       "      <td>162</td>\n",
       "      <td>0.503125</td>\n",
       "      <td>0.706897</td>\n",
       "      <td>0.143750</td>\n",
       "      <td>0.182266</td>\n",
       "    </tr>\n",
       "  </tbody>\n",
       "</table>\n",
       "</div>"
      ],
      "text/plain": [
       "            filename  width  height   name  xmin  xmax  ymin  ymax  center_x  \\\n",
       "1   0CXQ0Z6D2130.jpg     32      32  chair     1    31     2    30  0.500000   \n",
       "18         110_1.jpg    320     213    car    28   320     1   185  0.543750   \n",
       "20         114_1.jpg    320     203    car    72   149   130   187  0.345313   \n",
       "21         114_1.jpg    320     203    car   187   295   124   178  0.753125   \n",
       "22         114_1.jpg    320     203    car   138   184   125   162  0.503125   \n",
       "\n",
       "    center_y         w         h  \n",
       "1   0.500000  0.937500  0.875000  \n",
       "18  0.436620  0.912500  0.863850  \n",
       "20  0.780788  0.240625  0.280788  \n",
       "21  0.743842  0.337500  0.266010  \n",
       "22  0.706897  0.143750  0.182266  "
      ]
     },
     "execution_count": 120,
     "metadata": {},
     "output_type": "execute_result"
    }
   ],
   "source": [
    "test_df.head()"
   ]
  },
  {
   "cell_type": "code",
   "execution_count": 121,
   "id": "cd82da61-6f83-4788-ae4a-68281fa6b95a",
   "metadata": {},
   "outputs": [],
   "source": [
    "def label_encoding (x) :\n",
    "    labels = {'person':0 , 'car':1 ,'chair':2, 'plant':3,'bottle':4 }\n",
    "    return labels[x]\n"
   ]
  },
  {
   "cell_type": "code",
   "execution_count": 122,
   "id": "145c7f48-91b4-4c0f-9f83-bfad39abed07",
   "metadata": {},
   "outputs": [
    {
     "name": "stderr",
     "output_type": "stream",
     "text": [
      "C:\\Users\\MSI\\AppData\\Local\\Temp\\ipykernel_27568\\2871900455.py:2: SettingWithCopyWarning: \n",
      "A value is trying to be set on a copy of a slice from a DataFrame.\n",
      "Try using .loc[row_indexer,col_indexer] = value instead\n",
      "\n",
      "See the caveats in the documentation: https://pandas.pydata.org/pandas-docs/stable/user_guide/indexing.html#returning-a-view-versus-a-copy\n",
      "  train_df.loc[:, 'id'] = train_df['name'].apply(label_encoding)\n",
      "C:\\Users\\MSI\\AppData\\Local\\Temp\\ipykernel_27568\\2871900455.py:3: SettingWithCopyWarning: \n",
      "A value is trying to be set on a copy of a slice from a DataFrame.\n",
      "Try using .loc[row_indexer,col_indexer] = value instead\n",
      "\n",
      "See the caveats in the documentation: https://pandas.pydata.org/pandas-docs/stable/user_guide/indexing.html#returning-a-view-versus-a-copy\n",
      "  test_df.loc[:, 'id'] = test_df['name'].apply(label_encoding)\n"
     ]
    }
   ],
   "source": [
    "# Utiliser .loc pour éviter le SettingWithCopyWarning\n",
    "train_df.loc[:, 'id'] = train_df['name'].apply(label_encoding)\n",
    "test_df.loc[:, 'id'] = test_df['name'].apply(label_encoding)\n"
   ]
  },
  {
   "cell_type": "code",
   "execution_count": 123,
   "id": "2707a268-1223-46e3-92bf-eb752d130fbe",
   "metadata": {},
   "outputs": [
    {
     "data": {
      "text/html": [
       "<div>\n",
       "<style scoped>\n",
       "    .dataframe tbody tr th:only-of-type {\n",
       "        vertical-align: middle;\n",
       "    }\n",
       "\n",
       "    .dataframe tbody tr th {\n",
       "        vertical-align: top;\n",
       "    }\n",
       "\n",
       "    .dataframe thead th {\n",
       "        text-align: right;\n",
       "    }\n",
       "</style>\n",
       "<table border=\"1\" class=\"dataframe\">\n",
       "  <thead>\n",
       "    <tr style=\"text-align: right;\">\n",
       "      <th></th>\n",
       "      <th>filename</th>\n",
       "      <th>width</th>\n",
       "      <th>height</th>\n",
       "      <th>name</th>\n",
       "      <th>xmin</th>\n",
       "      <th>xmax</th>\n",
       "      <th>ymin</th>\n",
       "      <th>ymax</th>\n",
       "      <th>center_x</th>\n",
       "      <th>center_y</th>\n",
       "      <th>w</th>\n",
       "      <th>h</th>\n",
       "      <th>id</th>\n",
       "    </tr>\n",
       "  </thead>\n",
       "  <tbody>\n",
       "    <tr>\n",
       "      <th>0</th>\n",
       "      <td>0AHV0ASNCXTM.jpg</td>\n",
       "      <td>32</td>\n",
       "      <td>32</td>\n",
       "      <td>chair</td>\n",
       "      <td>1</td>\n",
       "      <td>32</td>\n",
       "      <td>1</td>\n",
       "      <td>32</td>\n",
       "      <td>0.515625</td>\n",
       "      <td>0.515625</td>\n",
       "      <td>0.968750</td>\n",
       "      <td>0.968750</td>\n",
       "      <td>2</td>\n",
       "    </tr>\n",
       "    <tr>\n",
       "      <th>2</th>\n",
       "      <td>0FSL56XHX45X.jpg</td>\n",
       "      <td>32</td>\n",
       "      <td>32</td>\n",
       "      <td>chair</td>\n",
       "      <td>3</td>\n",
       "      <td>29</td>\n",
       "      <td>1</td>\n",
       "      <td>32</td>\n",
       "      <td>0.500000</td>\n",
       "      <td>0.515625</td>\n",
       "      <td>0.812500</td>\n",
       "      <td>0.968750</td>\n",
       "      <td>2</td>\n",
       "    </tr>\n",
       "    <tr>\n",
       "      <th>3</th>\n",
       "      <td>0TVYI0FKFM75.jpg</td>\n",
       "      <td>32</td>\n",
       "      <td>32</td>\n",
       "      <td>chair</td>\n",
       "      <td>6</td>\n",
       "      <td>27</td>\n",
       "      <td>1</td>\n",
       "      <td>30</td>\n",
       "      <td>0.515625</td>\n",
       "      <td>0.484375</td>\n",
       "      <td>0.656250</td>\n",
       "      <td>0.906250</td>\n",
       "      <td>2</td>\n",
       "    </tr>\n",
       "    <tr>\n",
       "      <th>4</th>\n",
       "      <td>0ZA6E9VEPXO7.jpg</td>\n",
       "      <td>32</td>\n",
       "      <td>32</td>\n",
       "      <td>chair</td>\n",
       "      <td>1</td>\n",
       "      <td>32</td>\n",
       "      <td>1</td>\n",
       "      <td>31</td>\n",
       "      <td>0.515625</td>\n",
       "      <td>0.500000</td>\n",
       "      <td>0.968750</td>\n",
       "      <td>0.937500</td>\n",
       "      <td>2</td>\n",
       "    </tr>\n",
       "    <tr>\n",
       "      <th>5</th>\n",
       "      <td>1-liter-drinking-water-pet-bottle-995-w300_2_1...</td>\n",
       "      <td>281</td>\n",
       "      <td>500</td>\n",
       "      <td>bottle</td>\n",
       "      <td>58</td>\n",
       "      <td>181</td>\n",
       "      <td>1</td>\n",
       "      <td>485</td>\n",
       "      <td>0.425267</td>\n",
       "      <td>0.486000</td>\n",
       "      <td>0.437722</td>\n",
       "      <td>0.968000</td>\n",
       "      <td>4</td>\n",
       "    </tr>\n",
       "    <tr>\n",
       "      <th>6</th>\n",
       "      <td>10.png</td>\n",
       "      <td>607</td>\n",
       "      <td>412</td>\n",
       "      <td>person</td>\n",
       "      <td>65</td>\n",
       "      <td>154</td>\n",
       "      <td>124</td>\n",
       "      <td>340</td>\n",
       "      <td>0.180395</td>\n",
       "      <td>0.563107</td>\n",
       "      <td>0.146623</td>\n",
       "      <td>0.524272</td>\n",
       "      <td>0</td>\n",
       "    </tr>\n",
       "    <tr>\n",
       "      <th>7</th>\n",
       "      <td>10.png</td>\n",
       "      <td>607</td>\n",
       "      <td>412</td>\n",
       "      <td>person</td>\n",
       "      <td>291</td>\n",
       "      <td>398</td>\n",
       "      <td>292</td>\n",
       "      <td>412</td>\n",
       "      <td>0.567545</td>\n",
       "      <td>0.854369</td>\n",
       "      <td>0.176277</td>\n",
       "      <td>0.291262</td>\n",
       "      <td>0</td>\n",
       "    </tr>\n",
       "    <tr>\n",
       "      <th>8</th>\n",
       "      <td>100.jpg</td>\n",
       "      <td>320</td>\n",
       "      <td>240</td>\n",
       "      <td>car</td>\n",
       "      <td>26</td>\n",
       "      <td>317</td>\n",
       "      <td>19</td>\n",
       "      <td>233</td>\n",
       "      <td>0.535937</td>\n",
       "      <td>0.525000</td>\n",
       "      <td>0.909375</td>\n",
       "      <td>0.891667</td>\n",
       "      <td>1</td>\n",
       "    </tr>\n",
       "    <tr>\n",
       "      <th>9</th>\n",
       "      <td>102.jpg</td>\n",
       "      <td>320</td>\n",
       "      <td>213</td>\n",
       "      <td>car</td>\n",
       "      <td>66</td>\n",
       "      <td>264</td>\n",
       "      <td>1</td>\n",
       "      <td>209</td>\n",
       "      <td>0.515625</td>\n",
       "      <td>0.492958</td>\n",
       "      <td>0.618750</td>\n",
       "      <td>0.976526</td>\n",
       "      <td>1</td>\n",
       "    </tr>\n",
       "    <tr>\n",
       "      <th>10</th>\n",
       "      <td>104_1.jpg</td>\n",
       "      <td>320</td>\n",
       "      <td>213</td>\n",
       "      <td>car</td>\n",
       "      <td>49</td>\n",
       "      <td>289</td>\n",
       "      <td>87</td>\n",
       "      <td>197</td>\n",
       "      <td>0.528125</td>\n",
       "      <td>0.666667</td>\n",
       "      <td>0.750000</td>\n",
       "      <td>0.516432</td>\n",
       "      <td>1</td>\n",
       "    </tr>\n",
       "  </tbody>\n",
       "</table>\n",
       "</div>"
      ],
      "text/plain": [
       "                                             filename  width  height    name  \\\n",
       "0                                    0AHV0ASNCXTM.jpg     32      32   chair   \n",
       "2                                    0FSL56XHX45X.jpg     32      32   chair   \n",
       "3                                    0TVYI0FKFM75.jpg     32      32   chair   \n",
       "4                                    0ZA6E9VEPXO7.jpg     32      32   chair   \n",
       "5   1-liter-drinking-water-pet-bottle-995-w300_2_1...    281     500  bottle   \n",
       "6                                              10.png    607     412  person   \n",
       "7                                              10.png    607     412  person   \n",
       "8                                             100.jpg    320     240     car   \n",
       "9                                             102.jpg    320     213     car   \n",
       "10                                          104_1.jpg    320     213     car   \n",
       "\n",
       "    xmin  xmax  ymin  ymax  center_x  center_y         w         h  id  \n",
       "0      1    32     1    32  0.515625  0.515625  0.968750  0.968750   2  \n",
       "2      3    29     1    32  0.500000  0.515625  0.812500  0.968750   2  \n",
       "3      6    27     1    30  0.515625  0.484375  0.656250  0.906250   2  \n",
       "4      1    32     1    31  0.515625  0.500000  0.968750  0.937500   2  \n",
       "5     58   181     1   485  0.425267  0.486000  0.437722  0.968000   4  \n",
       "6     65   154   124   340  0.180395  0.563107  0.146623  0.524272   0  \n",
       "7    291   398   292   412  0.567545  0.854369  0.176277  0.291262   0  \n",
       "8     26   317    19   233  0.535937  0.525000  0.909375  0.891667   1  \n",
       "9     66   264     1   209  0.515625  0.492958  0.618750  0.976526   1  \n",
       "10    49   289    87   197  0.528125  0.666667  0.750000  0.516432   1  "
      ]
     },
     "execution_count": 123,
     "metadata": {},
     "output_type": "execute_result"
    }
   ],
   "source": [
    "train_df.head(10)"
   ]
  },
  {
   "cell_type": "code",
   "execution_count": 124,
   "id": "a1edacc3-2692-41d3-afbc-0c725b174566",
   "metadata": {},
   "outputs": [],
   "source": [
    "import os\n",
    "from shutil import move "
   ]
  },
  {
   "cell_type": "code",
   "execution_count": 125,
   "id": "d8fc678d-de25-4eed-8377-9aa98105b1be",
   "metadata": {},
   "outputs": [
    {
     "ename": "FileExistsError",
     "evalue": "[WinError 183] Impossible de créer un fichier déjà existant: 'data_images/train'",
     "output_type": "error",
     "traceback": [
      "\u001b[1;31m---------------------------------------------------------------------------\u001b[0m",
      "\u001b[1;31mFileExistsError\u001b[0m                           Traceback (most recent call last)",
      "Cell \u001b[1;32mIn[125], line 5\u001b[0m\n\u001b[0;32m      1\u001b[0m train_folder \u001b[38;5;241m=\u001b[39m \u001b[38;5;124m'\u001b[39m\u001b[38;5;124mdata_images/train\u001b[39m\u001b[38;5;124m'\u001b[39m\n\u001b[0;32m      2\u001b[0m test_folder \u001b[38;5;241m=\u001b[39m \u001b[38;5;124m'\u001b[39m\u001b[38;5;124mdata_images/test\u001b[39m\u001b[38;5;124m'\u001b[39m\n\u001b[1;32m----> 5\u001b[0m \u001b[43mos\u001b[49m\u001b[38;5;241;43m.\u001b[39;49m\u001b[43mmkdir\u001b[49m\u001b[43m(\u001b[49m\u001b[43mtrain_folder\u001b[49m\u001b[43m)\u001b[49m\n\u001b[0;32m      6\u001b[0m os\u001b[38;5;241m.\u001b[39mmkdir(test_folder)\n",
      "\u001b[1;31mFileExistsError\u001b[0m: [WinError 183] Impossible de créer un fichier déjà existant: 'data_images/train'"
     ]
    }
   ],
   "source": [
    "train_folder = 'data_images/train'\n",
    "test_folder = 'data_images/test'\n",
    "\n",
    "\n",
    "os.mkdir(train_folder)\n",
    "os.mkdir(test_folder)"
   ]
  },
  {
   "cell_type": "code",
   "execution_count": 126,
   "id": "435b8983-d363-41f3-bbe0-e27875012386",
   "metadata": {},
   "outputs": [],
   "source": [
    "cols = ['filename','id','center_x','center_y','w','h']\n",
    "groupeby_obj_train = train_df[cols].groupby('filename')\n",
    "groupeby_obj_test = test_df[cols].groupby('filename')"
   ]
  },
  {
   "cell_type": "code",
   "execution_count": 131,
   "id": "aca9a737-ad48-409c-9f49-81acb45e3513",
   "metadata": {},
   "outputs": [],
   "source": [
    "# groupeby_obj_train.get_group('10.png').set_index('filename').to_csv('sample.txt',index=False,header=False)\n",
    "def save_data(filename, folder_path, group_obj):\n",
    "    src = os.path.join('data_images', filename)\n",
    "    dst = os.path.join(folder_path, filename)\n",
    "\n",
    "    # Check if file exists before moving\n",
    "    if not os.path.exists(src):\n",
    "        print(f\"File not found: {src}\")\n",
    "        return  # Skip this file if it doesn't exist\n",
    "\n",
    "    # Move the file\n",
    "    move(src, dst)\n",
    "\n",
    "    # Save label\n",
    "    text_filename = os.path.join(folder_path, os.path.splitext(filename)[0] + '.txt')\n",
    "    group_obj.get_group(filename).set_index('filename').to_csv(text_filename, sep=' ', index=False, header=False)\n",
    "\n",
    "    "
   ]
  },
  {
   "cell_type": "code",
   "execution_count": 132,
   "id": "486a4557-3257-4c66-8b03-3e32648de939",
   "metadata": {},
   "outputs": [],
   "source": [
    "filename_series = pd.Series(groupeby_obj_train.groups.keys())"
   ]
  },
  {
   "cell_type": "code",
   "execution_count": 133,
   "id": "707b3199-b70e-47bd-b288-eb5860ff4082",
   "metadata": {},
   "outputs": [
    {
     "name": "stdout",
     "output_type": "stream",
     "text": [
      "File not found: data_images\\0AHV0ASNCXTM.jpg\n",
      "File not found: data_images\\0FSL56XHX45X.jpg\n"
     ]
    },
    {
     "data": {
      "text/plain": [
       "0      None\n",
       "1      None\n",
       "2      None\n",
       "3      None\n",
       "4      None\n",
       "       ... \n",
       "158    None\n",
       "159    None\n",
       "160    None\n",
       "161    None\n",
       "162    None\n",
       "Length: 163, dtype: object"
      ]
     },
     "execution_count": 133,
     "metadata": {},
     "output_type": "execute_result"
    }
   ],
   "source": [
    "filename_series.apply(save_data,args=(train_folder,groupeby_obj_train))"
   ]
  },
  {
   "cell_type": "code",
   "execution_count": 134,
   "id": "66394fc6-56fe-498d-b98a-d1f8ab2f75da",
   "metadata": {},
   "outputs": [
    {
     "name": "stdout",
     "output_type": "stream",
     "text": [
      "File not found: data_images\\0CXQ0Z6D2130.jpg\n"
     ]
    },
    {
     "data": {
      "text/plain": [
       "0     None\n",
       "1     None\n",
       "2     None\n",
       "3     None\n",
       "4     None\n",
       "5     None\n",
       "6     None\n",
       "7     None\n",
       "8     None\n",
       "9     None\n",
       "10    None\n",
       "11    None\n",
       "12    None\n",
       "13    None\n",
       "14    None\n",
       "15    None\n",
       "16    None\n",
       "17    None\n",
       "18    None\n",
       "19    None\n",
       "20    None\n",
       "21    None\n",
       "22    None\n",
       "23    None\n",
       "24    None\n",
       "25    None\n",
       "26    None\n",
       "27    None\n",
       "28    None\n",
       "29    None\n",
       "30    None\n",
       "31    None\n",
       "32    None\n",
       "33    None\n",
       "34    None\n",
       "35    None\n",
       "36    None\n",
       "37    None\n",
       "38    None\n",
       "39    None\n",
       "40    None\n",
       "dtype: object"
      ]
     },
     "execution_count": 134,
     "metadata": {},
     "output_type": "execute_result"
    }
   ],
   "source": [
    "filename_series_test = pd.Series(groupeby_obj_test.groups.keys())\n",
    "filename_series_test.apply(save_data,args=(test_folder,groupeby_obj_test))"
   ]
  },
  {
   "cell_type": "code",
   "execution_count": null,
   "id": "4d134ce1-be51-4394-acb3-8809ec3a3dda",
   "metadata": {},
   "outputs": [],
   "source": []
  }
 ],
 "metadata": {
  "kernelspec": {
   "display_name": "Python 3 (ipykernel)",
   "language": "python",
   "name": "python3"
  },
  "language_info": {
   "codemirror_mode": {
    "name": "ipython",
    "version": 3
   },
   "file_extension": ".py",
   "mimetype": "text/x-python",
   "name": "python",
   "nbconvert_exporter": "python",
   "pygments_lexer": "ipython3",
   "version": "3.11.9"
  }
 },
 "nbformat": 4,
 "nbformat_minor": 5
}
