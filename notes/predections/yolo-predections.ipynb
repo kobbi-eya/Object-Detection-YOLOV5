{
 "cells": [
  {
   "cell_type": "code",
   "execution_count": 3,
   "id": "d2fd9169-c90b-4892-8fb3-995e1cd19cce",
   "metadata": {},
   "outputs": [],
   "source": [
    "import cv2\n",
    "import numpy as np\n",
    "import os\n",
    "import yaml\n",
    "from yaml.loader import SafeLoader"
   ]
  },
  {
   "cell_type": "code",
   "execution_count": 4,
   "id": "d03d0cf8-440a-4010-9fae-4561a30af46a",
   "metadata": {},
   "outputs": [
    {
     "name": "stdout",
     "output_type": "stream",
     "text": [
      "['person', 'car', 'chair', 'plant', 'bottle']\n"
     ]
    }
   ],
   "source": [
    "#and yaml file\n",
    "with open('data.yaml','r') as f:\n",
    "    data_yaml = yaml.load(f,Loader=SafeLoader)\n",
    "labels = data_yaml['names']\n",
    "print(labels)"
   ]
  },
  {
   "cell_type": "code",
   "execution_count": 5,
   "id": "5fbe22f5-8986-4288-a4be-f97751677b99",
   "metadata": {},
   "outputs": [],
   "source": [
    "#load yolo model \n",
    "yolo = cv2.dnn.readNetFromONNX('./Model6/weights/best.onnx')\n",
    "yolo.setPreferableBackend(cv2.dnn.DNN_BACKEND_OPENCV)\n",
    "yolo.setPreferableTarget(cv2.dnn.DNN_TARGET_CPU)"
   ]
  },
  {
   "cell_type": "code",
   "execution_count": 6,
   "id": "d93405b3-bf88-4733-a93b-0d462d40332b",
   "metadata": {},
   "outputs": [
    {
     "name": "stdout",
     "output_type": "stream",
     "text": [
      "(1, 25200, 10)\n"
     ]
    }
   ],
   "source": [
    "#load image and get the yolo predictions from the image\n",
    "img = cv2.imread('./streetTraffic.jpg')\n",
    "image = img.copy()\n",
    "row,col,d = image.shape\n",
    "#get the yolo predection from image\n",
    "#convert our image to a square matrix\n",
    "max_rc = max(row,col)\n",
    "input_image = np.zeros((max_rc,max_rc,d), dtype=np.uint8)\n",
    "input_image[0:row,0:col] = image\n",
    "#step2 get predection from square array\n",
    "INPUT_WIDTH_YOLO = 640\n",
    "blob = cv2.dnn.blobFromImage(input_image,1/255,(INPUT_WIDTH_YOLO,INPUT_WIDTH_YOLO),swapRB=True,crop=False)\n",
    "yolo.setInput(blob)\n",
    "preds = yolo.forward() #detection or predection from yolo\n",
    "print(preds.shape)"
   ]
  },
  {
   "cell_type": "code",
   "execution_count": null,
   "id": "fbf69f77-d615-48e6-b8f3-d4d639630d34",
   "metadata": {},
   "outputs": [],
   "source": []
  },
  {
   "cell_type": "code",
   "execution_count": 22,
   "id": "d70484bb-f8ac-4970-82f1-e498a3181f6a",
   "metadata": {},
   "outputs": [],
   "source": [
    "#non Maximum Suppression\n",
    "#step1 : filter detection based on confiide,ce (0.4) and probability 0.25)\n",
    "detections = preds[0]\n",
    "boxes = []\n",
    "confidences = []\n",
    "classes = []\n",
    "# width and height of the image input_image\n",
    "image_w, image_h = input_image.shape[:2]\n",
    "x_factor = image_w/INPUT_WIDTH_YOLO\n",
    "y_factor = image_h/INPUT_WIDTH_YOLO\n",
    "\n",
    "for i in range(len(detections)):\n",
    "    row = detections[i]\n",
    "    confidence = row[4] #confidence of detection an object \n",
    "    if confidence > 0.4:\n",
    "        class_score = row[5:].max() #maximum probability from 5 object\n",
    "        class_id = row[5:].argmax() # get index position at which maximum probability\n",
    "        if class_score > 0.25:\n",
    "            cx,cy,w,h = row[0:4]\n",
    "            #construct bounding from four values\n",
    "            #left, top,width and heigt \n",
    "            left = int((cx-0.5*w)*x_factor)\n",
    "            top = int((cy-0.5*h)*y_factor)\n",
    "            width = int(w*x_factor)\n",
    "            height = int(h*y_factor)\n",
    "            box = np.array([left,top,width,height])\n",
    "            #append values into the lists \n",
    "            confidences.append(confidence)\n",
    "            boxes.append(box)\n",
    "            classes.append(class_id)\n",
    "\n",
    "#clean\n",
    "boxes_np = np.array(boxes).tolist()\n",
    "confidences_np = np.array(confidences).tolist()\n",
    "\n",
    "#NMS\n",
    "index = cv2.dnn.NMSBoxes(boxes_np,confidences_np,0.25,0.45).flatten()\n"
   ]
  },
  {
   "cell_type": "code",
   "execution_count": 23,
   "id": "b25dda9a-ad3e-4405-a065-e7da201577ab",
   "metadata": {},
   "outputs": [
    {
     "data": {
      "text/plain": [
       "array([3, 2], dtype=int32)"
      ]
     },
     "execution_count": 23,
     "metadata": {},
     "output_type": "execute_result"
    }
   ],
   "source": [
    "index"
   ]
  },
  {
   "cell_type": "code",
   "execution_count": 26,
   "id": "045cd6a8-a1f9-4467-88fe-f0c07362d3e0",
   "metadata": {},
   "outputs": [
    {
     "name": "stdout",
     "output_type": "stream",
     "text": [
      "car: 65%\n",
      "person: 63%\n"
     ]
    }
   ],
   "source": [
    "#Draw the BoundingBox\n",
    "for ind in index:\n",
    "    x,y,w,h = boxes_np[ind]\n",
    "    bb_conf = int(confidences_np[ind]*100)\n",
    "    classes_id = classes[ind]\n",
    "    class_name = labels[classes_id]\n",
    "    text = f'{class_name}: {bb_conf}%'\n",
    "    print(text)\n",
    "    cv2.rectangle(image,(x,y),(x+w,y+h),(0,255,0),2)\n",
    "    cv2.rectangle(image,(x,y-30),(x+w,y),(255,255,255),-1)\n",
    "    cv2.putText(image,text,(x,y-10),cv2.FONT_HERSHEY_PLAIN,0.7,(0,0,0),1)"
   ]
  },
  {
   "cell_type": "code",
   "execution_count": 27,
   "id": "c8eafe4e-60e2-4f7a-ae74-b80dd20fa6c8",
   "metadata": {},
   "outputs": [],
   "source": [
    "cv2.imshow('original',img)\n",
    "cv2.imshow('yolo_predection',image)\n",
    "cv2.waitKey(0)\n",
    "cv2.destroyAllWindows()"
   ]
  },
  {
   "cell_type": "code",
   "execution_count": null,
   "id": "0c70582a-d310-42bf-b332-5d8dfe1699fb",
   "metadata": {},
   "outputs": [],
   "source": []
  }
 ],
 "metadata": {
  "kernelspec": {
   "display_name": "Python 3 (ipykernel)",
   "language": "python",
   "name": "python3"
  },
  "language_info": {
   "codemirror_mode": {
    "name": "ipython",
    "version": 3
   },
   "file_extension": ".py",
   "mimetype": "text/x-python",
   "name": "python",
   "nbconvert_exporter": "python",
   "pygments_lexer": "ipython3",
   "version": "3.11.9"
  }
 },
 "nbformat": 4,
 "nbformat_minor": 5
}
